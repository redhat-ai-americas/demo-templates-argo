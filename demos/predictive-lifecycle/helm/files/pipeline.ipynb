{
 "cells": [
  {
   "cell_type": "code",
   "execution_count": 1,
   "id": "a37c26e5-b837-4337-9a0b-ef200370865f",
   "metadata": {},
   "outputs": [],
   "source": [
    "import subprocess\n",
    "import kfp\n",
    "import kfp.client\n",
    "from kfp import dsl\n",
    "from kfp import compiler\n",
    "from kfp import kubernetes\n",
    "\n",
    "\n",
    "PIPELINE_NAME = \"hoi-prediction\""
   ]
  },
  {
   "cell_type": "code",
   "execution_count": 2,
   "id": "d0301c74-f0bd-4a6c-bca4-3543b71860e2",
   "metadata": {},
   "outputs": [],
   "source": [
    "@dsl.component(\n",
    "    base_image=\"image-registry.openshift-image-registry.svc:5000/redhat-ods-applications/runtime-tensorflow:tensorflow\",\n",
    "    packages_to_install=[\"psycopg2\", \"onnx==1.17.0\", \"onnxruntime==1.19.2\", \"tf2onnx==1.16.1\"]\n",
    ")\n",
    "def train_model(fresh_run: str, output_path: dsl.OutputPath(bytes)):\n",
    "    from psycopg2 import connect\n",
    "    from os import getenv\n",
    "    from pandas import read_sql_query\n",
    "\n",
    "    print(fresh_run)\n",
    "    try:\n",
    "        conn = connect(dbname=getenv('DBNAME'), user=getenv('USER'), host=getenv('HOST'), password=getenv('PASSWORD'))\n",
    "    except Exception as e:\n",
    "        print(\"I am unable to connect to the database\")\n",
    "        print(e)\n",
    "        raise e\n",
    "    \n",
    "    sql_query = \"SELECT * FROM hoi.address_values WHERE event_timestamp < NOW()\"\n",
    "    data = read_sql_query(sql_query, con=conn)\n",
    "    conn.close()\n",
    "\n",
    "    print(data.head())\n",
    "\n",
    "    from numpy import random\n",
    "    from sklearn.model_selection import train_test_split\n",
    "    \n",
    "    random.default_rng(seed=513421)\n",
    "    \n",
    "    train_columns = [\n",
    "        \"home_sq_ft\",\n",
    "        \"num_beds\",\n",
    "        \"basement_sq_ft\",\n",
    "    ]\n",
    "    prediction_column = \"hoi_monthly_cost\"\n",
    "    \n",
    "    x = data[train_columns].values\n",
    "    y = data[prediction_column].values\n",
    "    \n",
    "    x_train, x_test, y_train, y_test = train_test_split(x, y, test_size=0.2)\n",
    "    print(x_train.shape, x_test.shape)\n",
    "\n",
    "    from keras.models import Sequential\n",
    "    from keras.layers import Dense, Dropout, BatchNormalization, Activation\n",
    "    \n",
    "    model = Sequential()\n",
    "    model.add(Dense(1, input_shape=(len(train_columns),)))\n",
    "\n",
    "    model.compile(\n",
    "        optimizer='adam',\n",
    "        loss='mse',\n",
    "        metrics=['accuracy']\n",
    "    )\n",
    "    model.output_names=['hoi_value']\n",
    "    \n",
    "    # Train the model and get performance\n",
    "    import os\n",
    "    import time\n",
    "    \n",
    "    start = time.time()\n",
    "    epochs = 2\n",
    "    history = model.fit(\n",
    "        x_train,\n",
    "        y_train,\n",
    "        epochs=epochs,\n",
    "        validation_data=(x_test, y_test),\n",
    "        verbose=True\n",
    "    )\n",
    "    end = time.time()\n",
    "    print(f\"Training of model is complete. Took {end-start} seconds\")\n",
    "\n",
    "    import tensorflow as tf\n",
    "    import tf2onnx\n",
    "    import onnx\n",
    "    import pickle\n",
    "    from pathlib import Path\n",
    "    \n",
    "    # Normally we use tf2.onnx.convert.from_keras.\n",
    "    # workaround for tf2onnx bug https://github.com/onnx/tensorflow-onnx/issues/2348\n",
    "    \n",
    "    # Wrap the model in a `tf.function`\n",
    "    @tf.function(input_signature=[tf.TensorSpec([None, x_train.shape[1]], tf.float32, name='dense_input')])\n",
    "    def model_fn(x):\n",
    "        return model(x)\n",
    "    \n",
    "    # Convert the Keras model to ONNX\n",
    "    model_proto, _ = tf2onnx.convert.from_function(\n",
    "        model_fn,\n",
    "        input_signature=[tf.TensorSpec([None, x_train.shape[1]], tf.float32, name='dense_input')]\n",
    "    )\n",
    "\n",
    "    with open(output_path, \"wb\") as f:\n",
    "        f.write(model_proto.SerializeToString())\n",
    "    print(\"Finished training\")"
   ]
  },
  {
   "cell_type": "code",
   "execution_count": 3,
   "id": "616b3ac6-2887-40a8-83aa-0e24a2877ab4",
   "metadata": {},
   "outputs": [],
   "source": [
    "@dsl.component(\n",
    "    base_image=\"image-registry.openshift-image-registry.svc:5000/redhat-ods-applications/runtime-tensorflow:tensorflow\",\n",
    "    packages_to_install=[\"boto3==1.35.55\", \"botocore==1.35.55\"]\n",
    ")\n",
    "def save_model(fresh_run: str, input_path: dsl.InputPath(bytes)) -> str:\n",
    "    import os\n",
    "    import boto3\n",
    "    import botocore\n",
    "\n",
    "    print(fresh_run)\n",
    "    print(\"Starting to save the model\")\n",
    "    aws_access_key_id = os.environ.get('AWS_ACCESS_KEY_ID')\n",
    "    aws_secret_access_key = os.environ.get('AWS_SECRET_ACCESS_KEY')\n",
    "    endpoint_url = os.environ.get('AWS_S3_ENDPOINT')\n",
    "    region_name = os.environ.get('AWS_DEFAULT_REGION')\n",
    "    bucket_name = os.environ.get('AWS_S3_BUCKET')\n",
    "\n",
    "    missing_var = False\n",
    "    for aws_var in ['AWS_ACCESS_KEY_ID', 'AWS_SECRET_ACCESS_KEY', 'AWS_S3_ENDPOINT', 'AWS_DEFAULT_REGION', 'AWS_S3_BUCKET']:\n",
    "        if not os.environ.get(aws_var):\n",
    "            print(aws_var)\n",
    "            missing_var = True\n",
    "    if missing_var:\n",
    "        raise ValueError(\"One or more connection variables are empty.  \"\n",
    "                         \"Please check your connection to an S3 bucket.\")\n",
    "    \n",
    "    session = boto3.session.Session(aws_access_key_id=aws_access_key_id,\n",
    "                                    aws_secret_access_key=aws_secret_access_key)\n",
    "    \n",
    "    s3_resource = session.resource(\n",
    "        's3',\n",
    "        config=botocore.client.Config(signature_version='s3v4'),\n",
    "        endpoint_url=endpoint_url,\n",
    "        region_name=region_name)\n",
    "    \n",
    "    bucket = s3_resource.Bucket(bucket_name)\n",
    "    print(\"Got the connection to the bucket\")\n",
    "    \n",
    "    def upload_model_to_s3(local_file, s3_prefix):\n",
    "        next_version = get_next_version(list_objects(\"models\"))\n",
    "        file_path = os.path.join('hoi', next_version, \"model.onnx\")\n",
    "        s3_key = os.path.join(s3_prefix, file_path)\n",
    "        os.makedirs(\"/tmp/models/hoi\", exist_ok=True)\n",
    "        with open(local_file, 'rb') as f:\n",
    "            data = f.read()\n",
    "            with open(\"/tmp/models/hoi/model.onnx\", 'wb') as tmp:\n",
    "                tmp.write(data)\n",
    "            \n",
    "        bucket.upload_file(\"/tmp/models/hoi/model.onnx\", s3_key)\n",
    "        return next_version\n",
    "    \n",
    "    \n",
    "    def list_objects(prefix):\n",
    "        objects = []\n",
    "        filter = bucket.objects.filter(Prefix=prefix)\n",
    "        for obj in filter.all():\n",
    "            objects.append(obj.key)\n",
    "        return objects\n",
    "    \n",
    "    \n",
    "    def get_next_version(models):\n",
    "        model_versions = [int(x.split('models/hoi/')[1].split('/')[0]) for x in models]\n",
    "        if model_versions:\n",
    "            next_version = str(max(model_versions) + 1)\n",
    "        else:\n",
    "            next_version = '1'\n",
    "        return next_version\n",
    "    \n",
    "    next_version = upload_model_to_s3(input_path, \"models\")\n",
    "    print(\"Finished uploading the model\")\n",
    "    return next_version\n"
   ]
  },
  {
   "cell_type": "code",
   "execution_count": 4,
   "id": "1b8e094c-292f-454e-963f-4b7c741913ab",
   "metadata": {},
   "outputs": [],
   "source": [
    "@dsl.component(\n",
    "    base_image=\"image-registry.openshift-image-registry.svc:5000/redhat-ods-applications/runtime-tensorflow:tensorflow\",\n",
    "    packages_to_install=[\"boto3==1.35.55\", \"botocore==1.35.55\"]\n",
    ")\n",
    "def publish_to_registry(user_token: str, version: str):\n",
    "    from requests import get, post\n",
    "    from os import getenv\n",
    "\n",
    "    headers = { \"Authorization\": f\"Bearer {user_token}\" }\n",
    "    base_url = getenv(\"BASE_URL\")\n",
    "\n",
    "    model_name = 'hoi'\n",
    "    response = get(url=f\"https://hoi-registry-rest{base_url}/api/model_registry/v1alpha3/registered_models\",\n",
    "                   headers=headers)\n",
    "    print(response)\n",
    "    print(\"Creating the model if we need to\")\n",
    "    models = response.json()['items']\n",
    "    print(models)\n",
    "    model_exists = [x for x in models if x['name'] == model_name]\n",
    "    print(model_exists)\n",
    "    \n",
    "    if not model_exists:\n",
    "        data = {\n",
    "            \"name\": model_name\n",
    "        }\n",
    "        \n",
    "        new_model = post(url=f\"https://hoi-registry-rest{base_url}/api/model_registry/v1alpha3/registered_models\",\n",
    "                   headers=headers, json=data)\n",
    "        new_model\n",
    "        print(\"Created new model\")\n",
    "        model_id = new_model.json()['id']\n",
    "    else:\n",
    "        model_id = model_exists[0]['id']\n",
    "    print(model_id)\n",
    "\n",
    "    data = {\n",
    "        \"author\": \"kube:admin\",\n",
    "        \"name\": version,\n",
    "        \"registeredModelId\": model_id,\n",
    "        \"state\": \"LIVE\"\n",
    "    }\n",
    "    \n",
    "    print(\"Creating the model version\", version)\n",
    "    response = post(url=f\"https://hoi-registry-rest{base_url}/api/model_registry/v1alpha3/model_versions\",\n",
    "                   headers=headers,\n",
    "                   json=data)\n",
    "    print(response)\n",
    "    model_version_id = response.json()['id']\n",
    "\n",
    "    data = {\n",
    "        'artifactType': 'model-artifact',\n",
    "        \"storageKey\": \"aws-connection-my-storage\",\n",
    "        \"name\": version,\n",
    "        \"modelFormatName\": \"onnx\",\n",
    "        \"modelFormatVersion\": \"1\",\n",
    "        \"storagePath\": f\"models/hoi\",\n",
    "        \"uri\": f\"s3://my-storage/models/hoi/{version}?endpoint={getenv('AWS_S3_ENDPOINT')}&defaultRegion={getenv('AWS_DEFAULT_REGION')}\",\n",
    "        \"description\": \"hoi Prediction Model\",\n",
    "        \"state\": \"LIVE\"\n",
    "    }\n",
    "    \n",
    "    print(\"Creating the model artifact\")\n",
    "    response = post(url=f\"https://hoi-registry-rest{base_url}/api/model_registry/v1alpha3/model_versions/{model_version_id}/artifacts\",\n",
    "                   headers=headers,\n",
    "                   json=data)\n",
    "    print(response)"
   ]
  },
  {
   "cell_type": "code",
   "execution_count": 5,
   "id": "ba99ec58-8dd4-49ba-b9d7-2b8675f49321",
   "metadata": {},
   "outputs": [],
   "source": [
    "@dsl.pipeline(name=PIPELINE_NAME)\n",
    "def hoi_model_pipeline(user_token: str, fresh_run: str):\n",
    "    # Step 1\n",
    "    train_model_task = train_model(fresh_run=fresh_run)\n",
    "    kubernetes.use_secret_as_env(train_model_task, secret_name='postgres-creds', secret_key_to_env={\"DBNAME\": \"DBNAME\"})\n",
    "    kubernetes.use_secret_as_env(train_model_task, secret_name='postgres-creds', secret_key_to_env={\"HOST\": \"HOST\"})\n",
    "    kubernetes.use_secret_as_env(train_model_task, secret_name='postgres-creds', secret_key_to_env={\"PASSWORD\": \"PASSWORD\"})\n",
    "    kubernetes.use_secret_as_env(train_model_task, secret_name='postgres-creds', secret_key_to_env={\"USER\": \"USER\"})\n",
    "\n",
    "    # Step 2\n",
    "    save_model_task = save_model(fresh_run=fresh_run, input_path=train_model_task.output)\n",
    "    kubernetes.use_secret_as_env(save_model_task, secret_name='aws-connection-my-storage', secret_key_to_env={\"AWS_ACCESS_KEY_ID\": \"AWS_ACCESS_KEY_ID\"})\n",
    "    kubernetes.use_secret_as_env(save_model_task, secret_name='aws-connection-my-storage', secret_key_to_env={\"AWS_DEFAULT_REGION\": \"AWS_DEFAULT_REGION\"})\n",
    "    kubernetes.use_secret_as_env(save_model_task, secret_name='aws-connection-my-storage', secret_key_to_env={\"AWS_S3_BUCKET\": \"AWS_S3_BUCKET\"})\n",
    "    kubernetes.use_secret_as_env(save_model_task, secret_name='aws-connection-my-storage', secret_key_to_env={\"AWS_S3_ENDPOINT\": \"AWS_S3_ENDPOINT\"})\n",
    "    kubernetes.use_secret_as_env(save_model_task, secret_name='aws-connection-my-storage', secret_key_to_env={\"AWS_SECRET_ACCESS_KEY\": \"AWS_SECRET_ACCESS_KEY\"})\n",
    "\n",
    "    # Step 3\n",
    "    publish_task = publish_to_registry(user_token=user_token, version=save_model_task.output)\n",
    "    kubernetes.use_secret_as_env(publish_task, secret_name='aws-connection-my-storage', secret_key_to_env={\"AWS_ACCESS_KEY_ID\": \"AWS_ACCESS_KEY_ID\"})\n",
    "    kubernetes.use_secret_as_env(publish_task, secret_name='aws-connection-my-storage', secret_key_to_env={\"AWS_DEFAULT_REGION\": \"AWS_DEFAULT_REGION\"})\n",
    "    kubernetes.use_secret_as_env(publish_task, secret_name='aws-connection-my-storage', secret_key_to_env={\"AWS_S3_BUCKET\": \"AWS_S3_BUCKET\"})\n",
    "    kubernetes.use_secret_as_env(publish_task, secret_name='aws-connection-my-storage', secret_key_to_env={\"AWS_S3_ENDPOINT\": \"AWS_S3_ENDPOINT\"})\n",
    "    kubernetes.use_secret_as_env(publish_task, secret_name='aws-connection-my-storage', secret_key_to_env={\"AWS_SECRET_ACCESS_KEY\": \"AWS_SECRET_ACCESS_KEY\"})\n",
    "    kubernetes.use_secret_as_env(publish_task, secret_name='urls', secret_key_to_env={\"BASE_URL\": \"BASE_URL\"})\n"
   ]
  },
  {
   "cell_type": "code",
   "execution_count": 6,
   "id": "fac72463-416d-4574-b8c7-2a24a5698511",
   "metadata": {},
   "outputs": [
    {
     "name": "stdout",
     "output_type": "stream",
     "text": [
      "Connecting to pipeline server\n",
      "Running Pipeline\n"
     ]
    },
    {
     "name": "stderr",
     "output_type": "stream",
     "text": [
      "/opt/app-root/lib64/python3.11/site-packages/kfp/client/client.py:159: FutureWarning: This client only works with Kubeflow Pipeline v2.0.0-beta.2 and later versions.\n",
      "  warnings.warn(\n",
      "/opt/app-root/lib64/python3.11/site-packages/urllib3/connectionpool.py:1064: InsecureRequestWarning: Unverified HTTPS request is being made to host 'ds-pipeline-dspa-hoi.apps.cluster-62cpk.62cpk.sandbox604.opentlc.com'. Adding certificate verification is strongly advised. See: https://urllib3.readthedocs.io/en/1.26.x/advanced-usage.html#ssl-warnings\n",
      "  warnings.warn(\n",
      "/opt/app-root/lib64/python3.11/site-packages/urllib3/connectionpool.py:1064: InsecureRequestWarning: Unverified HTTPS request is being made to host 'ds-pipeline-dspa-hoi.apps.cluster-62cpk.62cpk.sandbox604.opentlc.com'. Adding certificate verification is strongly advised. See: https://urllib3.readthedocs.io/en/1.26.x/advanced-usage.html#ssl-warnings\n",
      "  warnings.warn(\n"
     ]
    },
    {
     "data": {
      "text/html": [
       "<a href=\"https://ds-pipeline-dspa-hoi.apps.cluster-62cpk.62cpk.sandbox604.opentlc.com/#/experiments/details/4699a4c9-a62d-422e-ac67-90a5b3c7969a\" target=\"_blank\" >Experiment details</a>."
      ],
      "text/plain": [
       "<IPython.core.display.HTML object>"
      ]
     },
     "metadata": {},
     "output_type": "display_data"
    },
    {
     "name": "stderr",
     "output_type": "stream",
     "text": [
      "/opt/app-root/lib64/python3.11/site-packages/urllib3/connectionpool.py:1064: InsecureRequestWarning: Unverified HTTPS request is being made to host 'ds-pipeline-dspa-hoi.apps.cluster-62cpk.62cpk.sandbox604.opentlc.com'. Adding certificate verification is strongly advised. See: https://urllib3.readthedocs.io/en/1.26.x/advanced-usage.html#ssl-warnings\n",
      "  warnings.warn(\n"
     ]
    },
    {
     "data": {
      "text/html": [
       "<a href=\"https://ds-pipeline-dspa-hoi.apps.cluster-62cpk.62cpk.sandbox604.opentlc.com/#/runs/details/786123b8-990d-48d4-a1be-9b1c36fe9fff\" target=\"_blank\" >Run details</a>."
      ],
      "text/plain": [
       "<IPython.core.display.HTML object>"
      ]
     },
     "metadata": {},
     "output_type": "display_data"
    },
    {
     "data": {
      "text/plain": [
       "RunPipelineResult(run_id=786123b8-990d-48d4-a1be-9b1c36fe9fff)"
      ]
     },
     "execution_count": 6,
     "metadata": {},
     "output_type": "execute_result"
    }
   ],
   "source": [
    "# Connect to the pipeline server\n",
    "from os import getenv\n",
    "\n",
    "print(\"Connecting to pipeline server\")\n",
    "token = subprocess.check_output(\"oc whoami -t\", shell=True, text=True).strip()\n",
    "kfp_client = kfp.Client(host=getenv(\"PIPELINES_URL\"),\n",
    "                        existing_token=token,\n",
    "                        verify_ssl=False)\n",
    "\n",
    "# Create a run for the pipeline\n",
    "print(\"Running Pipeline\")\n",
    "kfp_client.create_run_from_pipeline_func(\n",
    "    hoi_model_pipeline,\n",
    "    experiment_name=PIPELINE_NAME,\n",
    "    arguments={\n",
    "        \"user_token\": getenv(\"TOKEN\"),\n",
    "        \"fresh_run\": \"\"\n",
    "    }\n",
    ")"
   ]
  },
  {
   "cell_type": "code",
   "execution_count": null,
   "id": "0eb0c9c2-e834-4ec9-b36e-f7f2398afc4a",
   "metadata": {},
   "outputs": [],
   "source": []
  },
  {
   "cell_type": "code",
   "execution_count": null,
   "id": "cc6354be-04a1-4f7e-b6d9-5b16b99de484",
   "metadata": {},
   "outputs": [],
   "source": []
  },
  {
   "cell_type": "code",
   "execution_count": 7,
   "id": "935c0df2-f3b6-4df6-ab4a-34a3c7d9d57c",
   "metadata": {},
   "outputs": [
    {
     "name": "stdout",
     "output_type": "stream",
     "text": [
      "Compiling Pipeline\n"
     ]
    }
   ],
   "source": [
    "# Compile Pipeline\n",
    "print(\"Compiling Pipeline\")\n",
    "compiler.Compiler().compile(hoi_model_pipeline, 'hoi_model_pipeline.yaml')"
   ]
  },
  {
   "cell_type": "code",
   "execution_count": 8,
   "id": "7698869b-a38d-42b3-936f-5a937828b2a5",
   "metadata": {},
   "outputs": [
    {
     "name": "stderr",
     "output_type": "stream",
     "text": [
      "/opt/app-root/lib64/python3.11/site-packages/urllib3/connectionpool.py:1064: InsecureRequestWarning: Unverified HTTPS request is being made to host 'ds-pipeline-dspa-hoi.apps.cluster-62cpk.62cpk.sandbox604.opentlc.com'. Adding certificate verification is strongly advised. See: https://urllib3.readthedocs.io/en/1.26.x/advanced-usage.html#ssl-warnings\n",
      "  warnings.warn(\n"
     ]
    },
    {
     "ename": "ApiException",
     "evalue": "(409)\nReason: Conflict\nHTTP response headers: HTTPHeaderDict({'content-length': '545', 'content-type': 'application/json', 'date': 'Thu, 09 Oct 2025 18:36:55 GMT', 'gap-auth': 'system:serviceaccount:hoi:build-model@cluster.local', 'gap-upstream-address': 'ds-pipeline-dspa.hoi.svc.cluster.local:8888', 'set-cookie': '1d684d4e5077c54c753d6d7d71c83bea=6bba3a918537aa4d861280aa44dc363f; path=/; HttpOnly; Secure; SameSite=None'})\nHTTP response body: {\"error_message\":\"Failed to create a pipeline and a pipeline version. The pipeline already exists.: Failed to create a pipeline and a pipeline version: Already exist error: Failed to create a new pipeline. The name hoi-prediction already exists. Please specify a new name\",\"error_details\":\"Failed to create a pipeline and a pipeline version. The pipeline already exists.: Failed to create a pipeline and a pipeline version: Already exist error: Failed to create a new pipeline. The name hoi-prediction already exists. Please specify a new name\"}\n",
     "output_type": "error",
     "traceback": [
      "\u001b[31m---------------------------------------------------------------------------\u001b[39m",
      "\u001b[31mApiException\u001b[39m                              Traceback (most recent call last)",
      "\u001b[36mCell\u001b[39m\u001b[36m \u001b[39m\u001b[32mIn[8]\u001b[39m\u001b[32m, line 1\u001b[39m\n\u001b[32m----> \u001b[39m\u001b[32m1\u001b[39m pipeline = \u001b[43mkfp_client\u001b[49m\u001b[43m.\u001b[49m\u001b[43mupload_pipeline\u001b[49m\u001b[43m(\u001b[49m\u001b[33;43m'\u001b[39;49m\u001b[33;43mhoi_model_pipeline.yaml\u001b[39;49m\u001b[33;43m'\u001b[39;49m\u001b[43m)\u001b[49m\n",
      "\u001b[36mFile \u001b[39m\u001b[32m/opt/app-root/lib64/python3.11/site-packages/kfp/client/client.py:1433\u001b[39m, in \u001b[36mClient.upload_pipeline\u001b[39m\u001b[34m(self, pipeline_package_path, pipeline_name, description, namespace)\u001b[39m\n\u001b[32m   1431\u001b[39m     pipeline_name = pipeline_doc.pipeline_spec.pipeline_info.name\n\u001b[32m   1432\u001b[39m validate_pipeline_display_name(pipeline_name)\n\u001b[32m-> \u001b[39m\u001b[32m1433\u001b[39m response = \u001b[38;5;28;43mself\u001b[39;49m\u001b[43m.\u001b[49m\u001b[43m_upload_api\u001b[49m\u001b[43m.\u001b[49m\u001b[43mupload_pipeline\u001b[49m\u001b[43m(\u001b[49m\n\u001b[32m   1434\u001b[39m \u001b[43m    \u001b[49m\u001b[43mpipeline_package_path\u001b[49m\u001b[43m,\u001b[49m\n\u001b[32m   1435\u001b[39m \u001b[43m    \u001b[49m\u001b[43mname\u001b[49m\u001b[43m=\u001b[49m\u001b[43mpipeline_name\u001b[49m\u001b[43m,\u001b[49m\n\u001b[32m   1436\u001b[39m \u001b[43m    \u001b[49m\u001b[43mdescription\u001b[49m\u001b[43m=\u001b[49m\u001b[43mdescription\u001b[49m\u001b[43m,\u001b[49m\n\u001b[32m   1437\u001b[39m \u001b[43m    \u001b[49m\u001b[43mnamespace\u001b[49m\u001b[43m=\u001b[49m\u001b[43mnamespace\u001b[49m\u001b[43m)\u001b[49m\n\u001b[32m   1438\u001b[39m link = \u001b[33mf\u001b[39m\u001b[33m'\u001b[39m\u001b[38;5;132;01m{\u001b[39;00m\u001b[38;5;28mself\u001b[39m._get_url_prefix()\u001b[38;5;132;01m}\u001b[39;00m\u001b[33m/#/pipelines/details/\u001b[39m\u001b[38;5;132;01m{\u001b[39;00mresponse.pipeline_id\u001b[38;5;132;01m}\u001b[39;00m\u001b[33m'\u001b[39m\n\u001b[32m   1439\u001b[39m \u001b[38;5;28;01mif\u001b[39;00m auth.is_ipython():\n",
      "\u001b[36mFile \u001b[39m\u001b[32m/opt/app-root/lib64/python3.11/site-packages/kfp_server_api/api/pipeline_upload_service_api.py:71\u001b[39m, in \u001b[36mPipelineUploadServiceApi.upload_pipeline\u001b[39m\u001b[34m(self, uploadfile, **kwargs)\u001b[39m\n\u001b[32m     40\u001b[39m \u001b[38;5;250m\u001b[39m\u001b[33;03m\"\"\"upload_pipeline  # noqa: E501\u001b[39;00m\n\u001b[32m     41\u001b[39m \n\u001b[32m     42\u001b[39m \u001b[33;03mThis method makes a synchronous HTTP request by default. To make an\u001b[39;00m\n\u001b[32m   (...)\u001b[39m\u001b[32m     68\u001b[39m \u001b[33;03m:rtype: V2beta1Pipeline\u001b[39;00m\n\u001b[32m     69\u001b[39m \u001b[33;03m\"\"\"\u001b[39;00m\n\u001b[32m     70\u001b[39m kwargs[\u001b[33m'\u001b[39m\u001b[33m_return_http_data_only\u001b[39m\u001b[33m'\u001b[39m] = \u001b[38;5;28;01mTrue\u001b[39;00m\n\u001b[32m---> \u001b[39m\u001b[32m71\u001b[39m \u001b[38;5;28;01mreturn\u001b[39;00m \u001b[38;5;28;43mself\u001b[39;49m\u001b[43m.\u001b[49m\u001b[43mupload_pipeline_with_http_info\u001b[49m\u001b[43m(\u001b[49m\u001b[43muploadfile\u001b[49m\u001b[43m,\u001b[49m\u001b[43m \u001b[49m\u001b[43m*\u001b[49m\u001b[43m*\u001b[49m\u001b[43mkwargs\u001b[49m\u001b[43m)\u001b[49m\n",
      "\u001b[36mFile \u001b[39m\u001b[32m/opt/app-root/lib64/python3.11/site-packages/kfp_server_api/api/pipeline_upload_service_api.py:170\u001b[39m, in \u001b[36mPipelineUploadServiceApi.upload_pipeline_with_http_info\u001b[39m\u001b[34m(self, uploadfile, **kwargs)\u001b[39m\n\u001b[32m    167\u001b[39m \u001b[38;5;66;03m# Authentication setting\u001b[39;00m\n\u001b[32m    168\u001b[39m auth_settings = [\u001b[33m'\u001b[39m\u001b[33mBearer\u001b[39m\u001b[33m'\u001b[39m]  \u001b[38;5;66;03m# noqa: E501\u001b[39;00m\n\u001b[32m--> \u001b[39m\u001b[32m170\u001b[39m \u001b[38;5;28;01mreturn\u001b[39;00m \u001b[38;5;28;43mself\u001b[39;49m\u001b[43m.\u001b[49m\u001b[43mapi_client\u001b[49m\u001b[43m.\u001b[49m\u001b[43mcall_api\u001b[49m\u001b[43m(\u001b[49m\n\u001b[32m    171\u001b[39m \u001b[43m    \u001b[49m\u001b[33;43m'\u001b[39;49m\u001b[33;43m/apis/v2beta1/pipelines/upload\u001b[39;49m\u001b[33;43m'\u001b[39;49m\u001b[43m,\u001b[49m\u001b[43m \u001b[49m\u001b[33;43m'\u001b[39;49m\u001b[33;43mPOST\u001b[39;49m\u001b[33;43m'\u001b[39;49m\u001b[43m,\u001b[49m\n\u001b[32m    172\u001b[39m \u001b[43m    \u001b[49m\u001b[43mpath_params\u001b[49m\u001b[43m,\u001b[49m\n\u001b[32m    173\u001b[39m \u001b[43m    \u001b[49m\u001b[43mquery_params\u001b[49m\u001b[43m,\u001b[49m\n\u001b[32m    174\u001b[39m \u001b[43m    \u001b[49m\u001b[43mheader_params\u001b[49m\u001b[43m,\u001b[49m\n\u001b[32m    175\u001b[39m \u001b[43m    \u001b[49m\u001b[43mbody\u001b[49m\u001b[43m=\u001b[49m\u001b[43mbody_params\u001b[49m\u001b[43m,\u001b[49m\n\u001b[32m    176\u001b[39m \u001b[43m    \u001b[49m\u001b[43mpost_params\u001b[49m\u001b[43m=\u001b[49m\u001b[43mform_params\u001b[49m\u001b[43m,\u001b[49m\n\u001b[32m    177\u001b[39m \u001b[43m    \u001b[49m\u001b[43mfiles\u001b[49m\u001b[43m=\u001b[49m\u001b[43mlocal_var_files\u001b[49m\u001b[43m,\u001b[49m\n\u001b[32m    178\u001b[39m \u001b[43m    \u001b[49m\u001b[43mresponse_type\u001b[49m\u001b[43m=\u001b[49m\u001b[33;43m'\u001b[39;49m\u001b[33;43mV2beta1Pipeline\u001b[39;49m\u001b[33;43m'\u001b[39;49m\u001b[43m,\u001b[49m\u001b[43m  \u001b[49m\u001b[38;5;66;43;03m# noqa: E501\u001b[39;49;00m\n\u001b[32m    179\u001b[39m \u001b[43m    \u001b[49m\u001b[43mauth_settings\u001b[49m\u001b[43m=\u001b[49m\u001b[43mauth_settings\u001b[49m\u001b[43m,\u001b[49m\n\u001b[32m    180\u001b[39m \u001b[43m    \u001b[49m\u001b[43masync_req\u001b[49m\u001b[43m=\u001b[49m\u001b[43mlocal_var_params\u001b[49m\u001b[43m.\u001b[49m\u001b[43mget\u001b[49m\u001b[43m(\u001b[49m\u001b[33;43m'\u001b[39;49m\u001b[33;43masync_req\u001b[39;49m\u001b[33;43m'\u001b[39;49m\u001b[43m)\u001b[49m\u001b[43m,\u001b[49m\n\u001b[32m    181\u001b[39m \u001b[43m    \u001b[49m\u001b[43m_return_http_data_only\u001b[49m\u001b[43m=\u001b[49m\u001b[43mlocal_var_params\u001b[49m\u001b[43m.\u001b[49m\u001b[43mget\u001b[49m\u001b[43m(\u001b[49m\u001b[33;43m'\u001b[39;49m\u001b[33;43m_return_http_data_only\u001b[39;49m\u001b[33;43m'\u001b[39;49m\u001b[43m)\u001b[49m\u001b[43m,\u001b[49m\u001b[43m  \u001b[49m\u001b[38;5;66;43;03m# noqa: E501\u001b[39;49;00m\n\u001b[32m    182\u001b[39m \u001b[43m    \u001b[49m\u001b[43m_preload_content\u001b[49m\u001b[43m=\u001b[49m\u001b[43mlocal_var_params\u001b[49m\u001b[43m.\u001b[49m\u001b[43mget\u001b[49m\u001b[43m(\u001b[49m\u001b[33;43m'\u001b[39;49m\u001b[33;43m_preload_content\u001b[39;49m\u001b[33;43m'\u001b[39;49m\u001b[43m,\u001b[49m\u001b[43m \u001b[49m\u001b[38;5;28;43;01mTrue\u001b[39;49;00m\u001b[43m)\u001b[49m\u001b[43m,\u001b[49m\n\u001b[32m    183\u001b[39m \u001b[43m    \u001b[49m\u001b[43m_request_timeout\u001b[49m\u001b[43m=\u001b[49m\u001b[43mlocal_var_params\u001b[49m\u001b[43m.\u001b[49m\u001b[43mget\u001b[49m\u001b[43m(\u001b[49m\u001b[33;43m'\u001b[39;49m\u001b[33;43m_request_timeout\u001b[39;49m\u001b[33;43m'\u001b[39;49m\u001b[43m)\u001b[49m\u001b[43m,\u001b[49m\n\u001b[32m    184\u001b[39m \u001b[43m    \u001b[49m\u001b[43mcollection_formats\u001b[49m\u001b[43m=\u001b[49m\u001b[43mcollection_formats\u001b[49m\u001b[43m)\u001b[49m\n",
      "\u001b[36mFile \u001b[39m\u001b[32m/opt/app-root/lib64/python3.11/site-packages/kfp_server_api/api_client.py:364\u001b[39m, in \u001b[36mApiClient.call_api\u001b[39m\u001b[34m(self, resource_path, method, path_params, query_params, header_params, body, post_params, files, response_type, auth_settings, async_req, _return_http_data_only, collection_formats, _preload_content, _request_timeout, _host)\u001b[39m\n\u001b[32m    327\u001b[39m \u001b[38;5;250m\u001b[39m\u001b[33;03m\"\"\"Makes the HTTP request (synchronous) and returns deserialized data.\u001b[39;00m\n\u001b[32m    328\u001b[39m \n\u001b[32m    329\u001b[39m \u001b[33;03mTo make an async_req request, set the async_req parameter.\u001b[39;00m\n\u001b[32m   (...)\u001b[39m\u001b[32m    361\u001b[39m \u001b[33;03m    then the method will return the response directly.\u001b[39;00m\n\u001b[32m    362\u001b[39m \u001b[33;03m\"\"\"\u001b[39;00m\n\u001b[32m    363\u001b[39m \u001b[38;5;28;01mif\u001b[39;00m \u001b[38;5;129;01mnot\u001b[39;00m async_req:\n\u001b[32m--> \u001b[39m\u001b[32m364\u001b[39m     \u001b[38;5;28;01mreturn\u001b[39;00m \u001b[38;5;28;43mself\u001b[39;49m\u001b[43m.\u001b[49m\u001b[43m__call_api\u001b[49m\u001b[43m(\u001b[49m\u001b[43mresource_path\u001b[49m\u001b[43m,\u001b[49m\u001b[43m \u001b[49m\u001b[43mmethod\u001b[49m\u001b[43m,\u001b[49m\n\u001b[32m    365\u001b[39m \u001b[43m                           \u001b[49m\u001b[43mpath_params\u001b[49m\u001b[43m,\u001b[49m\u001b[43m \u001b[49m\u001b[43mquery_params\u001b[49m\u001b[43m,\u001b[49m\u001b[43m \u001b[49m\u001b[43mheader_params\u001b[49m\u001b[43m,\u001b[49m\n\u001b[32m    366\u001b[39m \u001b[43m                           \u001b[49m\u001b[43mbody\u001b[49m\u001b[43m,\u001b[49m\u001b[43m \u001b[49m\u001b[43mpost_params\u001b[49m\u001b[43m,\u001b[49m\u001b[43m \u001b[49m\u001b[43mfiles\u001b[49m\u001b[43m,\u001b[49m\n\u001b[32m    367\u001b[39m \u001b[43m                           \u001b[49m\u001b[43mresponse_type\u001b[49m\u001b[43m,\u001b[49m\u001b[43m \u001b[49m\u001b[43mauth_settings\u001b[49m\u001b[43m,\u001b[49m\n\u001b[32m    368\u001b[39m \u001b[43m                           \u001b[49m\u001b[43m_return_http_data_only\u001b[49m\u001b[43m,\u001b[49m\u001b[43m \u001b[49m\u001b[43mcollection_formats\u001b[49m\u001b[43m,\u001b[49m\n\u001b[32m    369\u001b[39m \u001b[43m                           \u001b[49m\u001b[43m_preload_content\u001b[49m\u001b[43m,\u001b[49m\u001b[43m \u001b[49m\u001b[43m_request_timeout\u001b[49m\u001b[43m,\u001b[49m\u001b[43m \u001b[49m\u001b[43m_host\u001b[49m\u001b[43m)\u001b[49m\n\u001b[32m    371\u001b[39m \u001b[38;5;28;01mreturn\u001b[39;00m \u001b[38;5;28mself\u001b[39m.pool.apply_async(\u001b[38;5;28mself\u001b[39m.__call_api, (resource_path,\n\u001b[32m    372\u001b[39m                                                method, path_params,\n\u001b[32m    373\u001b[39m                                                query_params,\n\u001b[32m   (...)\u001b[39m\u001b[32m    381\u001b[39m                                                _request_timeout,\n\u001b[32m    382\u001b[39m                                                _host))\n",
      "\u001b[36mFile \u001b[39m\u001b[32m/opt/app-root/lib64/python3.11/site-packages/kfp_server_api/api_client.py:188\u001b[39m, in \u001b[36mApiClient.__call_api\u001b[39m\u001b[34m(self, resource_path, method, path_params, query_params, header_params, body, post_params, files, response_type, auth_settings, _return_http_data_only, collection_formats, _preload_content, _request_timeout, _host)\u001b[39m\n\u001b[32m    186\u001b[39m \u001b[38;5;28;01mexcept\u001b[39;00m ApiException \u001b[38;5;28;01mas\u001b[39;00m e:\n\u001b[32m    187\u001b[39m     e.body = e.body.decode(\u001b[33m'\u001b[39m\u001b[33mutf-8\u001b[39m\u001b[33m'\u001b[39m) \u001b[38;5;28;01mif\u001b[39;00m six.PY3 \u001b[38;5;28;01melse\u001b[39;00m e.body\n\u001b[32m--> \u001b[39m\u001b[32m188\u001b[39m     \u001b[38;5;28;01mraise\u001b[39;00m e\n\u001b[32m    190\u001b[39m content_type = response_data.getheader(\u001b[33m'\u001b[39m\u001b[33mcontent-type\u001b[39m\u001b[33m'\u001b[39m)\n\u001b[32m    192\u001b[39m \u001b[38;5;28mself\u001b[39m.last_response = response_data\n",
      "\u001b[36mFile \u001b[39m\u001b[32m/opt/app-root/lib64/python3.11/site-packages/kfp_server_api/api_client.py:181\u001b[39m, in \u001b[36mApiClient.__call_api\u001b[39m\u001b[34m(self, resource_path, method, path_params, query_params, header_params, body, post_params, files, response_type, auth_settings, _return_http_data_only, collection_formats, _preload_content, _request_timeout, _host)\u001b[39m\n\u001b[32m    177\u001b[39m     url = _host + resource_path\n\u001b[32m    179\u001b[39m \u001b[38;5;28;01mtry\u001b[39;00m:\n\u001b[32m    180\u001b[39m     \u001b[38;5;66;03m# perform request and return response\u001b[39;00m\n\u001b[32m--> \u001b[39m\u001b[32m181\u001b[39m     response_data = \u001b[38;5;28;43mself\u001b[39;49m\u001b[43m.\u001b[49m\u001b[43mrequest\u001b[49m\u001b[43m(\u001b[49m\n\u001b[32m    182\u001b[39m \u001b[43m        \u001b[49m\u001b[43mmethod\u001b[49m\u001b[43m,\u001b[49m\u001b[43m \u001b[49m\u001b[43murl\u001b[49m\u001b[43m,\u001b[49m\u001b[43m \u001b[49m\u001b[43mquery_params\u001b[49m\u001b[43m=\u001b[49m\u001b[43mquery_params\u001b[49m\u001b[43m,\u001b[49m\u001b[43m \u001b[49m\u001b[43mheaders\u001b[49m\u001b[43m=\u001b[49m\u001b[43mheader_params\u001b[49m\u001b[43m,\u001b[49m\n\u001b[32m    183\u001b[39m \u001b[43m        \u001b[49m\u001b[43mpost_params\u001b[49m\u001b[43m=\u001b[49m\u001b[43mpost_params\u001b[49m\u001b[43m,\u001b[49m\u001b[43m \u001b[49m\u001b[43mbody\u001b[49m\u001b[43m=\u001b[49m\u001b[43mbody\u001b[49m\u001b[43m,\u001b[49m\n\u001b[32m    184\u001b[39m \u001b[43m        \u001b[49m\u001b[43m_preload_content\u001b[49m\u001b[43m=\u001b[49m\u001b[43m_preload_content\u001b[49m\u001b[43m,\u001b[49m\n\u001b[32m    185\u001b[39m \u001b[43m        \u001b[49m\u001b[43m_request_timeout\u001b[49m\u001b[43m=\u001b[49m\u001b[43m_request_timeout\u001b[49m\u001b[43m)\u001b[49m\n\u001b[32m    186\u001b[39m \u001b[38;5;28;01mexcept\u001b[39;00m ApiException \u001b[38;5;28;01mas\u001b[39;00m e:\n\u001b[32m    187\u001b[39m     e.body = e.body.decode(\u001b[33m'\u001b[39m\u001b[33mutf-8\u001b[39m\u001b[33m'\u001b[39m) \u001b[38;5;28;01mif\u001b[39;00m six.PY3 \u001b[38;5;28;01melse\u001b[39;00m e.body\n",
      "\u001b[36mFile \u001b[39m\u001b[32m/opt/app-root/lib64/python3.11/site-packages/kfp_server_api/api_client.py:407\u001b[39m, in \u001b[36mApiClient.request\u001b[39m\u001b[34m(self, method, url, query_params, headers, post_params, body, _preload_content, _request_timeout)\u001b[39m\n\u001b[32m    401\u001b[39m     \u001b[38;5;28;01mreturn\u001b[39;00m \u001b[38;5;28mself\u001b[39m.rest_client.OPTIONS(url,\n\u001b[32m    402\u001b[39m                                     query_params=query_params,\n\u001b[32m    403\u001b[39m                                     headers=headers,\n\u001b[32m    404\u001b[39m                                     _preload_content=_preload_content,\n\u001b[32m    405\u001b[39m                                     _request_timeout=_request_timeout)\n\u001b[32m    406\u001b[39m \u001b[38;5;28;01melif\u001b[39;00m method == \u001b[33m\"\u001b[39m\u001b[33mPOST\u001b[39m\u001b[33m\"\u001b[39m:\n\u001b[32m--> \u001b[39m\u001b[32m407\u001b[39m     \u001b[38;5;28;01mreturn\u001b[39;00m \u001b[38;5;28;43mself\u001b[39;49m\u001b[43m.\u001b[49m\u001b[43mrest_client\u001b[49m\u001b[43m.\u001b[49m\u001b[43mPOST\u001b[49m\u001b[43m(\u001b[49m\u001b[43murl\u001b[49m\u001b[43m,\u001b[49m\n\u001b[32m    408\u001b[39m \u001b[43m                                 \u001b[49m\u001b[43mquery_params\u001b[49m\u001b[43m=\u001b[49m\u001b[43mquery_params\u001b[49m\u001b[43m,\u001b[49m\n\u001b[32m    409\u001b[39m \u001b[43m                                 \u001b[49m\u001b[43mheaders\u001b[49m\u001b[43m=\u001b[49m\u001b[43mheaders\u001b[49m\u001b[43m,\u001b[49m\n\u001b[32m    410\u001b[39m \u001b[43m                                 \u001b[49m\u001b[43mpost_params\u001b[49m\u001b[43m=\u001b[49m\u001b[43mpost_params\u001b[49m\u001b[43m,\u001b[49m\n\u001b[32m    411\u001b[39m \u001b[43m                                 \u001b[49m\u001b[43m_preload_content\u001b[49m\u001b[43m=\u001b[49m\u001b[43m_preload_content\u001b[49m\u001b[43m,\u001b[49m\n\u001b[32m    412\u001b[39m \u001b[43m                                 \u001b[49m\u001b[43m_request_timeout\u001b[49m\u001b[43m=\u001b[49m\u001b[43m_request_timeout\u001b[49m\u001b[43m,\u001b[49m\n\u001b[32m    413\u001b[39m \u001b[43m                                 \u001b[49m\u001b[43mbody\u001b[49m\u001b[43m=\u001b[49m\u001b[43mbody\u001b[49m\u001b[43m)\u001b[49m\n\u001b[32m    414\u001b[39m \u001b[38;5;28;01melif\u001b[39;00m method == \u001b[33m\"\u001b[39m\u001b[33mPUT\u001b[39m\u001b[33m\"\u001b[39m:\n\u001b[32m    415\u001b[39m     \u001b[38;5;28;01mreturn\u001b[39;00m \u001b[38;5;28mself\u001b[39m.rest_client.PUT(url,\n\u001b[32m    416\u001b[39m                                 query_params=query_params,\n\u001b[32m    417\u001b[39m                                 headers=headers,\n\u001b[32m   (...)\u001b[39m\u001b[32m    420\u001b[39m                                 _request_timeout=_request_timeout,\n\u001b[32m    421\u001b[39m                                 body=body)\n",
      "\u001b[36mFile \u001b[39m\u001b[32m/opt/app-root/lib64/python3.11/site-packages/kfp_server_api/rest.py:265\u001b[39m, in \u001b[36mRESTClientObject.POST\u001b[39m\u001b[34m(self, url, headers, query_params, post_params, body, _preload_content, _request_timeout)\u001b[39m\n\u001b[32m    263\u001b[39m \u001b[38;5;28;01mdef\u001b[39;00m\u001b[38;5;250m \u001b[39m\u001b[34mPOST\u001b[39m(\u001b[38;5;28mself\u001b[39m, url, headers=\u001b[38;5;28;01mNone\u001b[39;00m, query_params=\u001b[38;5;28;01mNone\u001b[39;00m, post_params=\u001b[38;5;28;01mNone\u001b[39;00m,\n\u001b[32m    264\u001b[39m          body=\u001b[38;5;28;01mNone\u001b[39;00m, _preload_content=\u001b[38;5;28;01mTrue\u001b[39;00m, _request_timeout=\u001b[38;5;28;01mNone\u001b[39;00m):\n\u001b[32m--> \u001b[39m\u001b[32m265\u001b[39m     \u001b[38;5;28;01mreturn\u001b[39;00m \u001b[38;5;28;43mself\u001b[39;49m\u001b[43m.\u001b[49m\u001b[43mrequest\u001b[49m\u001b[43m(\u001b[49m\u001b[33;43m\"\u001b[39;49m\u001b[33;43mPOST\u001b[39;49m\u001b[33;43m\"\u001b[39;49m\u001b[43m,\u001b[49m\u001b[43m \u001b[49m\u001b[43murl\u001b[49m\u001b[43m,\u001b[49m\n\u001b[32m    266\u001b[39m \u001b[43m                        \u001b[49m\u001b[43mheaders\u001b[49m\u001b[43m=\u001b[49m\u001b[43mheaders\u001b[49m\u001b[43m,\u001b[49m\n\u001b[32m    267\u001b[39m \u001b[43m                        \u001b[49m\u001b[43mquery_params\u001b[49m\u001b[43m=\u001b[49m\u001b[43mquery_params\u001b[49m\u001b[43m,\u001b[49m\n\u001b[32m    268\u001b[39m \u001b[43m                        \u001b[49m\u001b[43mpost_params\u001b[49m\u001b[43m=\u001b[49m\u001b[43mpost_params\u001b[49m\u001b[43m,\u001b[49m\n\u001b[32m    269\u001b[39m \u001b[43m                        \u001b[49m\u001b[43m_preload_content\u001b[49m\u001b[43m=\u001b[49m\u001b[43m_preload_content\u001b[49m\u001b[43m,\u001b[49m\n\u001b[32m    270\u001b[39m \u001b[43m                        \u001b[49m\u001b[43m_request_timeout\u001b[49m\u001b[43m=\u001b[49m\u001b[43m_request_timeout\u001b[49m\u001b[43m,\u001b[49m\n\u001b[32m    271\u001b[39m \u001b[43m                        \u001b[49m\u001b[43mbody\u001b[49m\u001b[43m=\u001b[49m\u001b[43mbody\u001b[49m\u001b[43m)\u001b[49m\n",
      "\u001b[36mFile \u001b[39m\u001b[32m/opt/app-root/lib64/python3.11/site-packages/kfp_server_api/rest.py:224\u001b[39m, in \u001b[36mRESTClientObject.request\u001b[39m\u001b[34m(self, method, url, query_params, headers, body, post_params, _preload_content, _request_timeout)\u001b[39m\n\u001b[32m    221\u001b[39m     logger.debug(\u001b[33m\"\u001b[39m\u001b[33mresponse body: \u001b[39m\u001b[38;5;132;01m%s\u001b[39;00m\u001b[33m\"\u001b[39m, r.data)\n\u001b[32m    223\u001b[39m \u001b[38;5;28;01mif\u001b[39;00m \u001b[38;5;129;01mnot\u001b[39;00m \u001b[32m200\u001b[39m <= r.status <= \u001b[32m299\u001b[39m:\n\u001b[32m--> \u001b[39m\u001b[32m224\u001b[39m     \u001b[38;5;28;01mraise\u001b[39;00m ApiException(http_resp=r)\n\u001b[32m    226\u001b[39m \u001b[38;5;28;01mreturn\u001b[39;00m r\n",
      "\u001b[31mApiException\u001b[39m: (409)\nReason: Conflict\nHTTP response headers: HTTPHeaderDict({'content-length': '545', 'content-type': 'application/json', 'date': 'Thu, 09 Oct 2025 18:36:55 GMT', 'gap-auth': 'system:serviceaccount:hoi:build-model@cluster.local', 'gap-upstream-address': 'ds-pipeline-dspa.hoi.svc.cluster.local:8888', 'set-cookie': '1d684d4e5077c54c753d6d7d71c83bea=6bba3a918537aa4d861280aa44dc363f; path=/; HttpOnly; Secure; SameSite=None'})\nHTTP response body: {\"error_message\":\"Failed to create a pipeline and a pipeline version. The pipeline already exists.: Failed to create a pipeline and a pipeline version: Already exist error: Failed to create a new pipeline. The name hoi-prediction already exists. Please specify a new name\",\"error_details\":\"Failed to create a pipeline and a pipeline version. The pipeline already exists.: Failed to create a pipeline and a pipeline version: Already exist error: Failed to create a new pipeline. The name hoi-prediction already exists. Please specify a new name\"}\n"
     ]
    }
   ],
   "source": [
    "pipeline = kfp_client.upload_pipeline('hoi_model_pipeline.yaml')"
   ]
  },
  {
   "cell_type": "code",
   "execution_count": null,
   "id": "3307a5e1-631c-4b57-b3b3-e6f87b0a0513",
   "metadata": {},
   "outputs": [],
   "source": []
  }
 ],
 "metadata": {
  "kernelspec": {
   "display_name": "Python 3.11",
   "language": "python",
   "name": "python3"
  },
  "language_info": {
   "codemirror_mode": {
    "name": "ipython",
    "version": 3
   },
   "file_extension": ".py",
   "mimetype": "text/x-python",
   "name": "python",
   "nbconvert_exporter": "python",
   "pygments_lexer": "ipython3",
   "version": "3.11.11"
  }
 },
 "nbformat": 4,
 "nbformat_minor": 5
}
