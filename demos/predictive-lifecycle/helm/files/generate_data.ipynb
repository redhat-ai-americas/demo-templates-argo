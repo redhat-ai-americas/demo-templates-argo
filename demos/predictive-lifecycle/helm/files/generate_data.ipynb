{
 "cells": [
  {
   "cell_type": "code",
   "execution_count": null,
   "id": "a17846d6",
   "metadata": {},
   "outputs": [],
   "source": [
    "%load_ext autoreload\n",
    "%autoreload 2"
   ]
  },
  {
   "cell_type": "code",
   "execution_count": null,
   "id": "de72e7d3",
   "metadata": {},
   "outputs": [],
   "source": [
    "num_data = 100000"
   ]
  },
  {
   "cell_type": "code",
   "execution_count": null,
   "id": "f0bd2bd3",
   "metadata": {},
   "outputs": [],
   "source": [
    "!printf data/**\\\\n.*\\\\n*.ipynb\\\\nregistry.db > .feastignore"
   ]
  },
  {
   "cell_type": "code",
   "execution_count": null,
   "id": "b93d5722",
   "metadata": {},
   "outputs": [],
   "source": [
    "%pip uninstall -y codeflare-sdk"
   ]
  },
  {
   "cell_type": "code",
   "execution_count": null,
   "id": "52f5824d",
   "metadata": {},
   "outputs": [],
   "source": [
    "%pip install 'feast[postgres, redis]' psycopg2"
   ]
  },
  {
   "cell_type": "code",
   "execution_count": null,
   "id": "c61afd40",
   "metadata": {},
   "outputs": [],
   "source": [
    "from numpy import arange, random, round\n",
    "from numpy.random import seed\n",
    "from datetime import datetime, timedelta\n",
    "\n",
    "\n",
    "seed(123456)\n",
    "addresses = arange(0, num_data)\n",
    "home_value = random.rand(num_data) * 900000 + 50000\n",
    "\n",
    "home_sq_ft = random.rand(num_data) * 2300 + 700\n",
    "num_beds = random.randint(1, 10, num_data)\n",
    "basement_sq_ft = random.rand(num_data) * 800 + 300\n",
    "\n",
    "distance_to_nearest_fire_hydrant = random.rand(num_data) * 1400 + 100  # in feet\n",
    "time_since_last_claim = (random.rand(num_data) * 119 + 1).astype(int)  # in months\n",
    "distance_from_emergency_systems = random.rand(num_data) * 2.9 + 0.1  # in miles\n",
    "fire_extinguisher_in_house = random.randint(0, 2, num_data)  # as an int boolean\n",
    "\n",
    "\n",
    "hoi_monthly_cost = round(\n",
    "    (random.rand(num_data) * 0.2 + 0.8) *\n",
    "    (home_value +\n",
    "     home_sq_ft * 100 +\n",
    "     num_beds * 27000 +\n",
    "     basement_sq_ft * 20 +\n",
    "     distance_to_nearest_fire_hydrant**2 * -5 / 1500 +\n",
    "     time_since_last_claim * 15 +\n",
    "     distance_from_emergency_systems * -500 +\n",
    "     fire_extinguisher_in_house * -73000\n",
    "    ) / 1000,\n",
    "    2)\n",
    "timestamps = [datetime.now() - timedelta(minutes=5 * i) + timedelta(days=30) for i in range(num_data)]"
   ]
  },
  {
   "cell_type": "code",
   "execution_count": null,
   "id": "e767f5f6",
   "metadata": {},
   "outputs": [],
   "source": [
    "from pandas import DataFrame\n",
    "\n",
    "data = DataFrame()\n",
    "data[\"address_id\"] = addresses\n",
    "data[\"home_sq_ft\"] = home_sq_ft\n",
    "data[\"num_beds\"] = num_beds\n",
    "data[\"basement_sq_ft\"] = basement_sq_ft\n",
    "data[\"hoi_monthly_cost\"] = hoi_monthly_cost\n",
    "data[\"event_timestamp\"] = timestamps\n",
    "data[\"created\"] = timestamps"
   ]
  },
  {
   "cell_type": "code",
   "execution_count": null,
   "id": "adf30330",
   "metadata": {},
   "outputs": [],
   "source": [
    "from os import getenv\n",
    "from sqlalchemy import create_engine, engine\n",
    "\n",
    "connection_string = engine.URL.create(\n",
    "    drivername=\"postgresql\",\n",
    "    username=getenv('USER'),\n",
    "    password=getenv('PASSWORD'),\n",
    "    host=getenv('HOST'),\n",
    "    database=getenv('DBNAME'),\n",
    ")\n",
    "\n",
    "this_engine = create_engine(connection_string)\n",
    "data.to_sql('address_values', schema=\"hoi\", con=this_engine, if_exists=\"append\", index=False)"
   ]
  },
  {
   "cell_type": "code",
   "execution_count": null,
   "id": "012f55a8",
   "metadata": {},
   "outputs": [],
   "source": [
    "from psycopg2 import connect\n",
    "\n",
    "try:\n",
    "    conn = connect(dbname=getenv('DBNAME'), user=getenv('USER'), host=getenv('HOST'), password=getenv('PASSWORD'))\n",
    "except:\n",
    "    print(\"I am unable to connect to the database\")\n",
    "\n",
    "with conn.cursor() as curs:\n",
    "    curs.execute(\"SELECT count(1) from hoi.address_values where event_timestamp < now()\")\n",
    "    single_row = curs.fetchone()\n",
    "    print(single_row)\n",
    "\n",
    "conn.close()"
   ]
  },
  {
   "cell_type": "code",
   "execution_count": null,
   "id": "0f246b0e",
   "metadata": {},
   "outputs": [],
   "source": []
  },
  {
   "cell_type": "code",
   "execution_count": null,
   "id": "8be70908",
   "metadata": {},
   "outputs": [],
   "source": [
    "from pandas import DataFrame\n",
    "\n",
    "data = DataFrame()\n",
    "data[\"address_id\"] = addresses\n",
    "data[\"home_value\"] = home_value\n",
    "data[\"event_timestamp\"] = timestamps\n",
    "data[\"created\"] = timestamps"
   ]
  },
  {
   "cell_type": "code",
   "execution_count": null,
   "id": "a3878985",
   "metadata": {},
   "outputs": [],
   "source": [
    "from os import getenv\n",
    "from sqlalchemy import create_engine, engine\n",
    "\n",
    "connection_string = engine.URL.create(\n",
    "    drivername=\"postgresql\",\n",
    "    username=getenv('USER'),\n",
    "    password=getenv('PASSWORD'),\n",
    "    host=getenv('HOST'),\n",
    "    database=getenv('DBNAME'),\n",
    ")\n",
    "\n",
    "this_engine = create_engine(connection_string)\n",
    "data.to_sql('vendor_address_values', schema=\"hoi\", con=this_engine, if_exists=\"append\", index=False)"
   ]
  },
  {
   "cell_type": "code",
   "execution_count": null,
   "id": "c0075599",
   "metadata": {},
   "outputs": [],
   "source": [
    "from psycopg2 import connect\n",
    "\n",
    "try:\n",
    "    conn = connect(dbname=getenv('DBNAME'), user=getenv('USER'), host=getenv('HOST'), password=getenv('PASSWORD'))\n",
    "except:\n",
    "    print(\"I am unable to connect to the database\")\n",
    "\n",
    "with conn.cursor() as curs:\n",
    "    curs.execute(\"SELECT count(1) from hoi.vendor_address_values where event_timestamp < now()\")\n",
    "    single_row = curs.fetchone()\n",
    "    print(single_row)\n",
    "\n",
    "conn.close()"
   ]
  }
 ],
 "metadata": {
  "language_info": {
   "name": "python"
  }
 },
 "nbformat": 4,
 "nbformat_minor": 5
}
