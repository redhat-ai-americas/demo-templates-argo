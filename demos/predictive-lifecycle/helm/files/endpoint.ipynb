{
 "cells": [
  {
   "cell_type": "code",
   "execution_count": 15,
   "id": "8282d8e7-d0f0-4850-907c-f43c5a421a63",
   "metadata": {},
   "outputs": [
    {
     "name": "stdout",
     "output_type": "stream",
     "text": [
      "https://hoi-1-hoi.apps.cluster-62cpk.62cpk.sandbox604.opentlc.com/v2/models/hoi-1/infer\n"
     ]
    }
   ],
   "source": [
    "from os import getenv\n",
    "\n",
    "model_version = '1'\n",
    "\n",
    "deployed_model_name = f\"hoi-{model_version}\"\n",
    "infer_endpoint = f\"https://hoi-{model_version}-hoi{getenv('BASE_URL')}\"\n",
    "infer_url = f\"{infer_endpoint}/v2/models/{deployed_model_name}/infer\"\n",
    "print(infer_url)"
   ]
  },
  {
   "cell_type": "code",
   "execution_count": 18,
   "id": "e27f753c-aea7-41e2-8797-47a666fc667d",
   "metadata": {},
   "outputs": [],
   "source": [
    "import requests\n",
    "\n",
    "def rest_request(data):\n",
    "    json_data = {\n",
    "        \"inputs\": [\n",
    "            {\n",
    "                \"name\": \"dense_input\",\n",
    "                \"shape\": [1, 3],\n",
    "                \"datatype\": \"FP32\",\n",
    "                \"data\": data\n",
    "            }\n",
    "        ]\n",
    "    }\n",
    "\n",
    "    headers = { \"Authorization\": f\"Bearer {getenv('TOKEN')}\" }\n",
    "    response = requests.post(infer_url, json=json_data, verify=False, headers=headers)\n",
    "    response_dict = response.json()\n",
    "    return response_dict['outputs'][0]['data']"
   ]
  },
  {
   "cell_type": "code",
   "execution_count": 19,
   "id": "1f70f2b4-c8be-49a6-b8f8-53d67cb6bf59",
   "metadata": {},
   "outputs": [
    {
     "name": "stdout",
     "output_type": "stream",
     "text": [
      "566.8970336914062\n"
     ]
    },
    {
     "name": "stderr",
     "output_type": "stream",
     "text": [
      "/opt/app-root/lib64/python3.11/site-packages/urllib3/connectionpool.py:1064: InsecureRequestWarning: Unverified HTTPS request is being made to host 'hoi-1-hoi.apps.cluster-62cpk.62cpk.sandbox604.opentlc.com'. Adding certificate verification is strongly advised. See: https://urllib3.readthedocs.io/en/1.26.x/advanced-usage.html#ssl-warnings\n",
      "  warnings.warn(\n"
     ]
    }
   ],
   "source": [
    "data = [1380.037989, 5.0, 666.232926]\n",
    "prediction = rest_request(data)\n",
    "print(prediction[0])"
   ]
  },
  {
   "cell_type": "code",
   "execution_count": null,
   "id": "80dee98f-5964-4e65-b15a-76ec6fe310b6",
   "metadata": {},
   "outputs": [],
   "source": []
  }
 ],
 "metadata": {
  "kernelspec": {
   "display_name": "Python 3.11",
   "language": "python",
   "name": "python3"
  },
  "language_info": {
   "codemirror_mode": {
    "name": "ipython",
    "version": 3
   },
   "file_extension": ".py",
   "mimetype": "text/x-python",
   "name": "python",
   "nbconvert_exporter": "python",
   "pygments_lexer": "ipython3",
   "version": "3.11.11"
  }
 },
 "nbformat": 4,
 "nbformat_minor": 5
}
